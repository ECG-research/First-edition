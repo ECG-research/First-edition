{
 "cells": [
  {
   "cell_type": "code",
   "execution_count": 2,
   "metadata": {},
   "outputs": [],
   "source": [
    "import torch \n",
    "import torch.optim as optim\n",
    "import torch.nn as nn\n",
    "from torch.utils.data import DataLoader, TensorDataset\n",
    "import numpy as np\n",
    "# import xResNet as m\n",
    "import Inception1d as m\n",
    "import Preprocessing as P\n",
    "from tqdm import tqdm\n",
    "\n",
    "#hyperparameters\n",
    "device = torch.device(\"cuda:0\" if torch.cuda.is_available() else \"cpu\")\n",
    "path = \"First-edition\\\\\"\n",
    "sampling_rate = 100\n",
    "num_eporch = 10\n",
    "thresh_hold = 0.5\n",
    "\n",
    "#network\n",
    "net = m.inception1d().float()\n",
    "# net = m.xresnet1d50_deeper().float() #could be other types of xresnet, see xResNet.py for more info\n",
    "\n",
    "\n",
    "criterion = nn.functional.binary_cross_entropy_with_logits\n",
    "optimizer = optim.Adam(net.parameters(), lr=0.001)\n",
    "\n",
    "#data\n",
    "data = P.Preprocessing(path,sampling_rate,experiment=\"diagnostic_superclass\")\n",
    "\n",
    "X = data.get_data_x()\n",
    "x_train = np.concatenate((X[0][0],X[0][1],X[0][2]),axis = 1)\n",
    "x_train = torch.from_numpy(x_train)\n",
    "\n",
    "x_val = np.concatenate((X[1][0],X[1][1],X[1][2]),axis = 1)\n",
    "x_val = torch.from_numpy(x_val)\n",
    "\n",
    "x_test = np.concatenate((X[2][0],X[2][1],X[2][2]),axis = 1)\n",
    "x_test = torch.from_numpy(x_test)\n",
    "\n",
    "Y = data.get_data_y()\n",
    "y_train = torch.from_numpy(Y[0])\n",
    "y_val = torch.from_numpy(Y[1])\n",
    "y_test = torch.from_numpy(Y[2])\n",
    "\n",
    "\n",
    "Sle = data.get_data_metadata()\n",
    "\n",
    "#dataloader\n",
    "train_data = DataLoader(TensorDataset(x_train,y_train), batch_size=32, shuffle=True)\n",
    "\n",
    "val_data = DataLoader(TensorDataset(x_val,y_val), batch_size = 32, shuffle=False)\n",
    "\n",
    "test_data = DataLoader(TensorDataset(x_test,y_test), batch_size = 32, shuffle=False)\n"
   ]
  },
  {
   "cell_type": "code",
   "execution_count": 3,
   "metadata": {},
   "outputs": [
    {
     "name": "stderr",
     "output_type": "stream",
     "text": [
      "  0%|          | 0/10 [00:00<?, ?it/s]"
     ]
    },
    {
     "name": "stdout",
     "output_type": "stream",
     "text": [
      "Epoch 1:/n-----------------------------------------------------------\n"
     ]
    },
    {
     "name": "stderr",
     "output_type": "stream",
     "text": [
      "100%|██████████| 545/545 [02:35<00:00,  3.50it/s]\n"
     ]
    },
    {
     "name": "stdout",
     "output_type": "stream",
     "text": [
      "========================================================\n",
      "Train loss of epoch 1:0.5520\n",
      "Train accuracy of epoch 1:0.7443417431192664\n"
     ]
    },
    {
     "name": "stderr",
     "output_type": "stream",
     "text": [
      "100%|██████████| 69/69 [00:04<00:00, 15.14it/s]\n",
      " 10%|█         | 1/10 [02:40<24:03, 160.39s/it]"
     ]
    },
    {
     "name": "stdout",
     "output_type": "stream",
     "text": [
      "========================================================\n",
      "Validation loss of epoch 1:0.5407\n",
      "Validation accuracy of epoch 1:0.7457039337474121\n",
      "Epoch 2:/n-----------------------------------------------------------\n"
     ]
    },
    {
     "name": "stderr",
     "output_type": "stream",
     "text": [
      "100%|██████████| 545/545 [02:27<00:00,  3.68it/s]\n"
     ]
    },
    {
     "name": "stdout",
     "output_type": "stream",
     "text": [
      "========================================================\n",
      "Train loss of epoch 2:0.5359\n",
      "Train accuracy of epoch 2:0.745353211009174\n"
     ]
    },
    {
     "name": "stderr",
     "output_type": "stream",
     "text": [
      "100%|██████████| 69/69 [00:04<00:00, 14.68it/s]\n",
      " 20%|██        | 2/10 [05:13<20:46, 155.87s/it]"
     ]
    },
    {
     "name": "stdout",
     "output_type": "stream",
     "text": [
      "========================================================\n",
      "Validation loss of epoch 2:0.5621\n",
      "Validation accuracy of epoch 2:0.7457039337474118\n",
      "Epoch 3:/n-----------------------------------------------------------\n"
     ]
    },
    {
     "name": "stderr",
     "output_type": "stream",
     "text": [
      "100%|██████████| 545/545 [02:18<00:00,  3.94it/s]\n"
     ]
    },
    {
     "name": "stdout",
     "output_type": "stream",
     "text": [
      "========================================================\n",
      "Train loss of epoch 3:0.4424\n",
      "Train accuracy of epoch 3:0.7929747706422025\n"
     ]
    },
    {
     "name": "stderr",
     "output_type": "stream",
     "text": [
      "100%|██████████| 69/69 [00:04<00:00, 14.58it/s]\n",
      " 30%|███       | 3/10 [07:36<17:30, 150.02s/it]"
     ]
    },
    {
     "name": "stdout",
     "output_type": "stream",
     "text": [
      "========================================================\n",
      "Validation loss of epoch 3:0.4618\n",
      "Validation accuracy of epoch 3:0.760973084886128\n",
      "Epoch 4:/n-----------------------------------------------------------\n"
     ]
    },
    {
     "name": "stderr",
     "output_type": "stream",
     "text": [
      "100%|██████████| 545/545 [02:25<00:00,  3.74it/s]\n"
     ]
    },
    {
     "name": "stdout",
     "output_type": "stream",
     "text": [
      "========================================================\n",
      "Train loss of epoch 4:0.3714\n",
      "Train accuracy of epoch 4:0.8353646788990828\n"
     ]
    },
    {
     "name": "stderr",
     "output_type": "stream",
     "text": [
      "100%|██████████| 69/69 [00:04<00:00, 14.92it/s]\n",
      " 40%|████      | 4/10 [10:06<15:01, 150.18s/it]"
     ]
    },
    {
     "name": "stdout",
     "output_type": "stream",
     "text": [
      "========================================================\n",
      "Validation loss of epoch 4:0.3778\n",
      "Validation accuracy of epoch 4:0.8244694616977225\n",
      "Epoch 5:/n-----------------------------------------------------------\n"
     ]
    },
    {
     "name": "stderr",
     "output_type": "stream",
     "text": [
      "100%|██████████| 545/545 [02:23<00:00,  3.79it/s]\n"
     ]
    },
    {
     "name": "stdout",
     "output_type": "stream",
     "text": [
      "========================================================\n",
      "Train loss of epoch 5:0.3490\n",
      "Train accuracy of epoch 5:0.8471926605504585\n"
     ]
    },
    {
     "name": "stderr",
     "output_type": "stream",
     "text": [
      "100%|██████████| 69/69 [00:04<00:00, 14.73it/s]\n",
      " 50%|█████     | 5/10 [12:34<12:27, 149.51s/it]"
     ]
    },
    {
     "name": "stdout",
     "output_type": "stream",
     "text": [
      "========================================================\n",
      "Validation loss of epoch 5:0.3707\n",
      "Validation accuracy of epoch 5:0.8411361283643893\n",
      "Epoch 6:/n-----------------------------------------------------------\n"
     ]
    },
    {
     "name": "stderr",
     "output_type": "stream",
     "text": [
      "100%|██████████| 545/545 [02:23<00:00,  3.80it/s]\n"
     ]
    },
    {
     "name": "stdout",
     "output_type": "stream",
     "text": [
      "========================================================\n",
      "Train loss of epoch 6:0.3375\n",
      "Train accuracy of epoch 6:0.8536032110091746\n"
     ]
    },
    {
     "name": "stderr",
     "output_type": "stream",
     "text": [
      "100%|██████████| 69/69 [00:05<00:00, 13.30it/s]\n",
      " 60%|██████    | 6/10 [15:03<09:56, 149.23s/it]"
     ]
    },
    {
     "name": "stdout",
     "output_type": "stream",
     "text": [
      "========================================================\n",
      "Validation loss of epoch 6:0.3722\n",
      "Validation accuracy of epoch 6:0.8379270186335407\n",
      "Epoch 7:/n-----------------------------------------------------------\n"
     ]
    },
    {
     "name": "stderr",
     "output_type": "stream",
     "text": [
      "100%|██████████| 545/545 [02:24<00:00,  3.76it/s]\n"
     ]
    },
    {
     "name": "stdout",
     "output_type": "stream",
     "text": [
      "========================================================\n",
      "Train loss of epoch 7:0.3283\n",
      "Train accuracy of epoch 7:0.8580344036697242\n"
     ]
    },
    {
     "name": "stderr",
     "output_type": "stream",
     "text": [
      "100%|██████████| 69/69 [00:04<00:00, 14.90it/s]\n",
      " 70%|███████   | 7/10 [17:32<07:27, 149.29s/it]"
     ]
    },
    {
     "name": "stdout",
     "output_type": "stream",
     "text": [
      "========================================================\n",
      "Validation loss of epoch 7:0.3444\n",
      "Validation accuracy of epoch 7:0.8469849896480334\n",
      "Epoch 8:/n-----------------------------------------------------------\n"
     ]
    },
    {
     "name": "stderr",
     "output_type": "stream",
     "text": [
      "100%|██████████| 545/545 [02:19<00:00,  3.90it/s]\n"
     ]
    },
    {
     "name": "stdout",
     "output_type": "stream",
     "text": [
      "========================================================\n",
      "Train loss of epoch 8:0.3216\n",
      "Train accuracy of epoch 8:0.8621582568807337\n"
     ]
    },
    {
     "name": "stderr",
     "output_type": "stream",
     "text": [
      "100%|██████████| 69/69 [00:04<00:00, 14.60it/s]\n",
      " 80%|████████  | 8/10 [19:57<04:55, 147.77s/it]"
     ]
    },
    {
     "name": "stdout",
     "output_type": "stream",
     "text": [
      "========================================================\n",
      "Validation loss of epoch 8:0.3483\n",
      "Validation accuracy of epoch 8:0.8528209109730851\n",
      "Epoch 9:/n-----------------------------------------------------------\n"
     ]
    },
    {
     "name": "stderr",
     "output_type": "stream",
     "text": [
      "100%|██████████| 545/545 [02:34<00:00,  3.52it/s]\n"
     ]
    },
    {
     "name": "stdout",
     "output_type": "stream",
     "text": [
      "========================================================\n",
      "Train loss of epoch 9:0.3166\n",
      "Train accuracy of epoch 9:0.8638853211009169\n"
     ]
    },
    {
     "name": "stderr",
     "output_type": "stream",
     "text": [
      "100%|██████████| 69/69 [00:04<00:00, 14.58it/s]\n",
      " 90%|█████████ | 9/10 [22:36<02:31, 151.40s/it]"
     ]
    },
    {
     "name": "stdout",
     "output_type": "stream",
     "text": [
      "========================================================\n",
      "Validation loss of epoch 9:0.3466\n",
      "Validation accuracy of epoch 9:0.8492883022774327\n",
      "Epoch 10:/n-----------------------------------------------------------\n"
     ]
    },
    {
     "name": "stderr",
     "output_type": "stream",
     "text": [
      "100%|██████████| 545/545 [02:59<00:00,  3.04it/s]\n"
     ]
    },
    {
     "name": "stdout",
     "output_type": "stream",
     "text": [
      "========================================================\n",
      "Train loss of epoch 10:0.3108\n",
      "Train accuracy of epoch 10:0.8666926605504587\n"
     ]
    },
    {
     "name": "stderr",
     "output_type": "stream",
     "text": [
      "100%|██████████| 69/69 [00:04<00:00, 15.11it/s]\n",
      "100%|██████████| 10/10 [25:40<00:00, 154.08s/it]"
     ]
    },
    {
     "name": "stdout",
     "output_type": "stream",
     "text": [
      "========================================================\n",
      "Validation loss of epoch 10:0.3440\n",
      "Validation accuracy of epoch 10:0.8462474120082818\n",
      "\n",
      "finished training =================================================\n"
     ]
    },
    {
     "name": "stderr",
     "output_type": "stream",
     "text": [
      "\n"
     ]
    }
   ],
   "source": [
    "# import xResNet as m\n",
    "# net = m.xresnet1d50_deeper().float()\n",
    "#with inception, it takes 3 minutes to finish an epoch on my lovely thingy\n",
    "net.to(device)\n",
    "#storing stuff for matplotlib\n",
    "epoch_train_loss = []\n",
    "epoch_train_acc = []\n",
    "epoch_val_loss = []\n",
    "epoch_val_acc = []\n",
    "\n",
    "for epoch in tqdm(range(num_eporch)):\n",
    "    net.train()\n",
    "    train_loss = []\n",
    "    train_acc = []\n",
    "    val_loss = []\n",
    "    val_acc = []\n",
    "    print(\"Epoch {}:/n-----------------------------------------------------------\".format(epoch +1)) \n",
    "    \n",
    "    for inputs, labels in tqdm(train_data):\n",
    "        inputs, labels = inputs.to(device),labels.to(device)\n",
    "        running_loss = 0.0\n",
    "        optimizer.zero_grad()\n",
    "        # forward + backward + optimize\n",
    "        outputs = net(inputs.float())\n",
    "        outputs.to(device)\n",
    "        loss = criterion(outputs, (labels.float()))\n",
    "        loss.backward()\n",
    "        optimizer.step()\n",
    "        \n",
    "        pred = outputs.cpu().detach().numpy() > thresh_hold\n",
    "        acc = (pred == labels.cpu().detach().numpy()).sum()/(inputs.shape[0]*5)\n",
    "        \n",
    "        running_loss += loss.item()\n",
    "        train_loss.append(loss.item())\n",
    "        train_acc.append(acc)\n",
    "        # print(\"epoch{}: loss per batch:{:.4f}\".format(epoch+1, running_loss))\n",
    "        # print(\"Accuracy of epoch{} per batch:{}\".format(epoch+1, acc*100))\n",
    "        # the above two lines are for those who want to burn your own eyes\n",
    "    print(\"========================================================\")\n",
    "    epoch_train_acc.append(sum(train_acc)/len(train_acc))\n",
    "    epoch_train_loss.append(sum(train_loss)/len(train_loss))\n",
    "    print(\"Train loss of epoch {}:{:.4f}\".format(epoch+1, epoch_train_loss[-1]))    \n",
    "    print(\"Train accuracy of epoch {}:{:}\".format(epoch+1, epoch_train_acc[-1]))\n",
    "\n",
    "    with torch.no_grad():\n",
    "        net.eval()\n",
    "        running_loss = 0.0\n",
    "        batch_val = []\n",
    "        for inputs, labels in tqdm(val_data):\n",
    "            inputs, labels = inputs.cuda(),labels.cuda()\n",
    "            # forward + backward + optimize\n",
    "            outputs = net(inputs.float())\n",
    "            loss = criterion(outputs, labels.float())\n",
    "            \n",
    "            pred = outputs.cpu().detach().numpy() > thresh_hold\n",
    "            acc = (pred == labels.cpu().detach().numpy()).sum()/(inputs.shape[0]*5)\n",
    "            batch_val.append(acc)\n",
    "            running_loss += loss.item()\n",
    "            val_loss.append(loss.item())\n",
    "            val_acc.append(acc)\n",
    "    epoch_val_loss.append(sum(val_loss)/len(val_loss))\n",
    "    epoch_val_acc.append(sum(val_acc)/len(val_acc))\n",
    "    print(\"========================================================\")\n",
    "    print(\"Validation loss of epoch {}:{:.4f}\".format(epoch+1, epoch_val_loss[-1]))    \n",
    "    print(\"Validation accuracy of epoch {}:{:}\".format(epoch+1, epoch_val_acc[-1]))\n",
    "\n",
    "print(\"\\nfinished training =================================================\")\n",
    "\n"
   ]
  },
  {
   "cell_type": "code",
   "execution_count": 4,
   "metadata": {},
   "outputs": [
    {
     "name": "stderr",
     "output_type": "stream",
     "text": [
      "100%|██████████| 69/69 [00:04<00:00, 14.09it/s]"
     ]
    },
    {
     "name": "stdout",
     "output_type": "stream",
     "text": [
      "========================================================\n",
      "Test loss:0.3436\n",
      "Test accuracy:0.8517704216073781\n"
     ]
    },
    {
     "name": "stderr",
     "output_type": "stream",
     "text": [
      "\n"
     ]
    }
   ],
   "source": [
    "#here should lie the testing code\n",
    "test_loss = []\n",
    "test_acc = []\n",
    "with torch.no_grad():\n",
    "    net.eval()\n",
    "    running_loss = 0.0\n",
    "    batch_test = []\n",
    "    for inputs, labels in tqdm(test_data):\n",
    "        inputs, labels = inputs.to(device),labels.to(device)\n",
    "        outputs = net(inputs.float())\n",
    "        outputs.to(device)\n",
    "        loss = criterion(outputs, labels.float())\n",
    "        pred = outputs.cpu().detach().numpy() > thresh_hold\n",
    "        acc = (pred == labels.cpu().detach().numpy()).sum()/(inputs.shape[0]*5)\n",
    "        batch_test.append(acc)\n",
    "        running_loss += loss.item()\n",
    "        test_loss.append(loss.item())\n",
    "        test_acc.append(acc)\n",
    "print(\"========================================================\")\n",
    "print(\"Test loss:{:.4f}\".format(sum(test_loss)/len(test_loss)))    \n",
    "print(\"Test accuracy:{:}\".format(sum(batch_test)/len(batch_test)))"
   ]
  },
  {
   "cell_type": "code",
   "execution_count": 18,
   "metadata": {},
   "outputs": [
    {
     "data": {
      "image/png": "[encoded data removed]",
      "text/plain": [
       "<Figure size 640x480 with 2 Axes>"
      ]
     },
     "metadata": {},
     "output_type": "display_data"
    }
   ],
   "source": [
    "import matplotlib.pyplot as plt\n",
    "#visualize\n",
    "figure, axis = plt.subplots(2)\n",
    "#accuracy plot\n",
    "axis[0].set_title('Inception1d')\n",
    "axis[0].plot(epoch_train_acc,label='train_acc')\n",
    "axis[0].plot(epoch_val_acc,label='val_acc')\n",
    "axis[0].set_xlabel('epochs')\n",
    "axis[0].set_ylabel('acc')\n",
    "\n",
    "\n",
    "axis[1].plot(epoch_train_loss,label='train')\n",
    "axis[1].plot(epoch_val_loss,label='val')\n",
    "axis[1].set_xlabel('epochs')\n",
    "axis[1].set_ylabel('loss')\n",
    "\n",
    "plt.savefig(\"Inception1d.jpg\")\n",
    "plt.legend()\n",
    "plt.show()"
   ]
  }
 ],
 "metadata": {
  "kernelspec": {
   "display_name": "Python 3.10.7 64-bit",
   "language": "python",
   "name": "python3"
  },
  "language_info": {
   "codemirror_mode": {
    "name": "ipython",
    "version": 3
   },
   "file_extension": ".py",
   "mimetype": "text/x-python",
   "name": "python",
   "nbconvert_exporter": "python",
   "pygments_lexer": "ipython3",
   "version": "3.10.7"
  },
  "orig_nbformat": 4,
  "vscode": {
   "interpreter": {
    "hash": "d20bcdef696afd7cf0fc88bd3be2c3aff4cadff0f93f83df0fcfe153514e79a0"
   }
  }
 },
 "nbformat": 4,
 "nbformat_minor": 2
}
