{
 "cells": [
  {
   "cell_type": "code",
   "execution_count": null,
   "metadata": {},
   "outputs": [],
   "source": [
    "import torch \n",
    "import torch.optim as optim\n",
    "import torch.nn as nn\n",
    "from torch.utils.data import DataLoader, TensorDataset\n",
    "import numpy as np\n",
    "# import xResNet as m\n",
    "import Inception1d as m\n",
    "import Preprocessing as P\n",
    "from tqdm import tqdm\n",
    "\n",
    "#hyperparameters\n",
    "device = torch.device(\"cuda:0\" if torch.cuda.is_available() else \"cpu\")\n",
    "path = \"First-edition\\\\\"\n",
    "sampling_rate = 100\n",
    "num_eporch = 15\n",
    "thresh_hold = 0.5\n",
    "\n",
    "#network\n",
    "net = m.inception1d().float()\n",
    "# net = m.xresnet1d50_deeper().float() #could be other types of xresnet, see xResNet.py for more info\n",
    "\n",
    "\n",
    "criterion = nn.functional.binary_cross_entropy_with_logits\n",
    "optimizer = optim.Adam(net.parameters(), lr=0.001)\n",
    "\n",
    "#data\n",
    "data = P.Preprocessing(path,sampling_rate,experiment=\"diagnostic_superclass\")\n",
    "\n",
    "X = data.get_data_x()\n",
    "x_train = np.concatenate((X[0][0],X[0][1],X[0][2]),axis = 1)\n",
    "x_train = torch.from_numpy(x_train)\n",
    "\n",
    "x_val = np.concatenate((X[1][0],X[1][1],X[1][2]),axis = 1)\n",
    "x_val = torch.from_numpy(x_val)\n",
    "\n",
    "x_test = np.concatenate((X[2][0],X[2][1],X[2][2]),axis = 1)\n",
    "x_test = torch.from_numpy(x_test)\n",
    "\n",
    "Y = data.get_data_y()\n",
    "y_train = torch.from_numpy(Y[0])\n",
    "y_val = torch.from_numpy(Y[1])\n",
    "y_test = torch.from_numpy(Y[2])\n",
    "\n",
    "\n",
    "Sle = data.get_data_metadata()\n",
    "\n",
    "#dataloader\n",
    "train_data = DataLoader(TensorDataset(x_train,y_train), batch_size=32, shuffle=True)\n",
    "\n",
    "val_data = DataLoader(TensorDataset(x_val,y_val), batch_size = 32, shuffle=False)\n",
    "\n",
    "test_data = DataLoader(TensorDataset(x_test,y_test), batch_size = 32, shuffle=False)\n"
   ]
  },
  {
   "cell_type": "code",
   "execution_count": 2,
   "metadata": {},
   "outputs": [
    {
     "name": "stderr",
     "output_type": "stream",
     "text": [
      "  0%|          | 0/15 [00:00<?, ?it/s]"
     ]
    },
    {
     "name": "stdout",
     "output_type": "stream",
     "text": [
      "Epoch 1:/n-----------------------------------------------------------\n"
     ]
    },
    {
     "name": "stderr",
     "output_type": "stream",
     "text": [
      "100%|██████████| 545/545 [00:47<00:00, 11.47it/s]\n"
     ]
    },
    {
     "name": "stdout",
     "output_type": "stream",
     "text": [
      "========================================================\n",
      "Train loss of epoch 1:0.8049\n",
      "Train accuracy of epoch 1:0.6234105504587161\n"
     ]
    },
    {
     "name": "stderr",
     "output_type": "stream",
     "text": [
      "100%|██████████| 69/69 [00:01<00:00, 39.01it/s]\n",
      "  7%|▋         | 1/15 [00:49<11:30, 49.31s/it]"
     ]
    },
    {
     "name": "stdout",
     "output_type": "stream",
     "text": [
      "========================================================\n",
      "Validation loss of epoch 1:0.7833\n",
      "Validation accuracy of epoch 1:0.6431288819875778\n",
      "Epoch 2:/n-----------------------------------------------------------\n"
     ]
    },
    {
     "name": "stderr",
     "output_type": "stream",
     "text": [
      "100%|██████████| 545/545 [00:43<00:00, 12.64it/s]\n"
     ]
    },
    {
     "name": "stdout",
     "output_type": "stream",
     "text": [
      "========================================================\n",
      "Train loss of epoch 2:0.8043\n",
      "Train accuracy of epoch 2:0.6252637614678899\n"
     ]
    },
    {
     "name": "stderr",
     "output_type": "stream",
     "text": [
      "100%|██████████| 69/69 [00:01<00:00, 39.55it/s]\n",
      " 13%|█▎        | 2/15 [01:34<10:07, 46.70s/it]"
     ]
    },
    {
     "name": "stdout",
     "output_type": "stream",
     "text": [
      "========================================================\n",
      "Validation loss of epoch 2:0.7862\n",
      "Validation accuracy of epoch 2:0.6414078674948238\n",
      "Epoch 3:/n-----------------------------------------------------------\n"
     ]
    },
    {
     "name": "stderr",
     "output_type": "stream",
     "text": [
      "100%|██████████| 545/545 [00:42<00:00, 12.96it/s]\n"
     ]
    },
    {
     "name": "stdout",
     "output_type": "stream",
     "text": [
      "========================================================\n",
      "Train loss of epoch 3:0.8055\n",
      "Train accuracy of epoch 3:0.6270068807339451\n"
     ]
    },
    {
     "name": "stderr",
     "output_type": "stream",
     "text": [
      "100%|██████████| 69/69 [00:01<00:00, 39.61it/s]\n",
      " 20%|██        | 3/15 [02:17<09:04, 45.37s/it]"
     ]
    },
    {
     "name": "stdout",
     "output_type": "stream",
     "text": [
      "========================================================\n",
      "Validation loss of epoch 3:0.7797\n",
      "Validation accuracy of epoch 3:0.649016563146998\n",
      "Epoch 4:/n-----------------------------------------------------------\n"
     ]
    },
    {
     "name": "stderr",
     "output_type": "stream",
     "text": [
      "100%|██████████| 545/545 [00:41<00:00, 13.09it/s]\n"
     ]
    },
    {
     "name": "stdout",
     "output_type": "stream",
     "text": [
      "========================================================\n",
      "Train loss of epoch 4:0.8031\n",
      "Train accuracy of epoch 4:0.6253050458715598\n"
     ]
    },
    {
     "name": "stderr",
     "output_type": "stream",
     "text": [
      "100%|██████████| 69/69 [00:01<00:00, 39.19it/s]\n",
      " 27%|██▋       | 4/15 [03:01<08:10, 44.59s/it]"
     ]
    },
    {
     "name": "stdout",
     "output_type": "stream",
     "text": [
      "========================================================\n",
      "Validation loss of epoch 4:0.7824\n",
      "Validation accuracy of epoch 4:0.643853519668737\n",
      "Epoch 5:/n-----------------------------------------------------------\n"
     ]
    },
    {
     "name": "stderr",
     "output_type": "stream",
     "text": [
      "100%|██████████| 545/545 [00:41<00:00, 13.27it/s]\n"
     ]
    },
    {
     "name": "stdout",
     "output_type": "stream",
     "text": [
      "========================================================\n",
      "Train loss of epoch 5:0.8079\n",
      "Train accuracy of epoch 5:0.6226077981651377\n"
     ]
    },
    {
     "name": "stderr",
     "output_type": "stream",
     "text": [
      "100%|██████████| 69/69 [00:01<00:00, 39.71it/s]\n",
      " 33%|███▎      | 5/15 [03:44<07:19, 43.95s/it]"
     ]
    },
    {
     "name": "stdout",
     "output_type": "stream",
     "text": [
      "========================================================\n",
      "Validation loss of epoch 5:0.7854\n",
      "Validation accuracy of epoch 5:0.6467650103519667\n",
      "Epoch 6:/n-----------------------------------------------------------\n"
     ]
    },
    {
     "name": "stderr",
     "output_type": "stream",
     "text": [
      "100%|██████████| 545/545 [00:41<00:00, 13.18it/s]\n"
     ]
    },
    {
     "name": "stdout",
     "output_type": "stream",
     "text": [
      "========================================================\n",
      "Train loss of epoch 6:0.8042\n",
      "Train accuracy of epoch 6:0.6254220183486235\n"
     ]
    },
    {
     "name": "stderr",
     "output_type": "stream",
     "text": [
      "100%|██████████| 69/69 [00:01<00:00, 38.54it/s]\n",
      " 40%|████      | 6/15 [04:27<06:33, 43.68s/it]"
     ]
    },
    {
     "name": "stdout",
     "output_type": "stream",
     "text": [
      "========================================================\n",
      "Validation loss of epoch 6:0.7944\n",
      "Validation accuracy of epoch 6:0.6331651138716354\n",
      "Epoch 7:/n-----------------------------------------------------------\n"
     ]
    },
    {
     "name": "stderr",
     "output_type": "stream",
     "text": [
      "100%|██████████| 545/545 [00:42<00:00, 12.79it/s]\n"
     ]
    },
    {
     "name": "stdout",
     "output_type": "stream",
     "text": [
      "========================================================\n",
      "Train loss of epoch 7:0.8042\n",
      "Train accuracy of epoch 7:0.6244495412844038\n"
     ]
    },
    {
     "name": "stderr",
     "output_type": "stream",
     "text": [
      "100%|██████████| 69/69 [00:01<00:00, 40.36it/s]\n",
      " 47%|████▋     | 7/15 [05:11<05:51, 43.89s/it]"
     ]
    },
    {
     "name": "stdout",
     "output_type": "stream",
     "text": [
      "========================================================\n",
      "Validation loss of epoch 7:0.7728\n",
      "Validation accuracy of epoch 7:0.6517339544513459\n",
      "Epoch 8:/n-----------------------------------------------------------\n"
     ]
    },
    {
     "name": "stderr",
     "output_type": "stream",
     "text": [
      "100%|██████████| 545/545 [00:48<00:00, 11.30it/s]\n"
     ]
    },
    {
     "name": "stdout",
     "output_type": "stream",
     "text": [
      "========================================================\n",
      "Train loss of epoch 8:0.8061\n",
      "Train accuracy of epoch 8:0.6222178899082561\n"
     ]
    },
    {
     "name": "stderr",
     "output_type": "stream",
     "text": [
      "100%|██████████| 69/69 [00:02<00:00, 32.82it/s]\n",
      " 53%|█████▎    | 8/15 [06:02<05:21, 45.95s/it]"
     ]
    },
    {
     "name": "stdout",
     "output_type": "stream",
     "text": [
      "========================================================\n",
      "Validation loss of epoch 8:0.7707\n",
      "Validation accuracy of epoch 8:0.6555383022774329\n",
      "Epoch 9:/n-----------------------------------------------------------\n"
     ]
    },
    {
     "name": "stderr",
     "output_type": "stream",
     "text": [
      "100%|██████████| 545/545 [00:43<00:00, 12.56it/s]\n"
     ]
    },
    {
     "name": "stdout",
     "output_type": "stream",
     "text": [
      "========================================================\n",
      "Train loss of epoch 9:0.8040\n",
      "Train accuracy of epoch 9:0.6236582568807338\n"
     ]
    },
    {
     "name": "stderr",
     "output_type": "stream",
     "text": [
      "100%|██████████| 69/69 [00:01<00:00, 37.99it/s]\n",
      " 60%|██████    | 9/15 [06:47<04:34, 45.72s/it]"
     ]
    },
    {
     "name": "stdout",
     "output_type": "stream",
     "text": [
      "========================================================\n",
      "Validation loss of epoch 9:0.7876\n",
      "Validation accuracy of epoch 9:0.643957039337474\n",
      "Epoch 10:/n-----------------------------------------------------------\n"
     ]
    },
    {
     "name": "stderr",
     "output_type": "stream",
     "text": [
      "100%|██████████| 545/545 [00:42<00:00, 12.68it/s]\n"
     ]
    },
    {
     "name": "stdout",
     "output_type": "stream",
     "text": [
      "========================================================\n",
      "Train loss of epoch 10:0.8041\n",
      "Train accuracy of epoch 10:0.6253211009174314\n"
     ]
    },
    {
     "name": "stderr",
     "output_type": "stream",
     "text": [
      "100%|██████████| 69/69 [00:01<00:00, 38.32it/s]\n",
      " 67%|██████▋   | 10/15 [07:32<03:47, 45.43s/it]"
     ]
    },
    {
     "name": "stdout",
     "output_type": "stream",
     "text": [
      "========================================================\n",
      "Validation loss of epoch 10:0.7810\n",
      "Validation accuracy of epoch 10:0.6438017598343686\n",
      "Epoch 11:/n-----------------------------------------------------------\n"
     ]
    },
    {
     "name": "stderr",
     "output_type": "stream",
     "text": [
      "100%|██████████| 545/545 [00:43<00:00, 12.54it/s]\n"
     ]
    },
    {
     "name": "stdout",
     "output_type": "stream",
     "text": [
      "========================================================\n",
      "Train loss of epoch 11:0.8033\n",
      "Train accuracy of epoch 11:0.6241697247706424\n"
     ]
    },
    {
     "name": "stderr",
     "output_type": "stream",
     "text": [
      "100%|██████████| 69/69 [00:01<00:00, 38.25it/s]\n",
      " 73%|███████▎  | 11/15 [08:17<03:01, 45.39s/it]"
     ]
    },
    {
     "name": "stdout",
     "output_type": "stream",
     "text": [
      "========================================================\n",
      "Validation loss of epoch 11:0.7690\n",
      "Validation accuracy of epoch 11:0.6537655279503103\n",
      "Epoch 12:/n-----------------------------------------------------------\n"
     ]
    },
    {
     "name": "stderr",
     "output_type": "stream",
     "text": [
      "100%|██████████| 545/545 [00:43<00:00, 12.64it/s]\n"
     ]
    },
    {
     "name": "stdout",
     "output_type": "stream",
     "text": [
      "========================================================\n",
      "Train loss of epoch 12:0.8034\n",
      "Train accuracy of epoch 12:0.6242155963302752\n"
     ]
    },
    {
     "name": "stderr",
     "output_type": "stream",
     "text": [
      "100%|██████████| 69/69 [00:01<00:00, 38.72it/s]\n",
      " 80%|████████  | 12/15 [09:02<02:15, 45.24s/it]"
     ]
    },
    {
     "name": "stdout",
     "output_type": "stream",
     "text": [
      "========================================================\n",
      "Validation loss of epoch 12:0.7808\n",
      "Validation accuracy of epoch 12:0.6441252587991718\n",
      "Epoch 13:/n-----------------------------------------------------------\n"
     ]
    },
    {
     "name": "stderr",
     "output_type": "stream",
     "text": [
      "100%|██████████| 545/545 [00:42<00:00, 12.81it/s]\n"
     ]
    },
    {
     "name": "stdout",
     "output_type": "stream",
     "text": [
      "========================================================\n",
      "Train loss of epoch 13:0.8053\n",
      "Train accuracy of epoch 13:0.6244518348623851\n"
     ]
    },
    {
     "name": "stderr",
     "output_type": "stream",
     "text": [
      "100%|██████████| 69/69 [00:01<00:00, 36.97it/s]\n",
      " 87%|████████▋ | 13/15 [09:46<01:29, 44.99s/it]"
     ]
    },
    {
     "name": "stdout",
     "output_type": "stream",
     "text": [
      "========================================================\n",
      "Validation loss of epoch 13:0.7860\n",
      "Validation accuracy of epoch 13:0.6422619047619048\n",
      "Epoch 14:/n-----------------------------------------------------------\n"
     ]
    },
    {
     "name": "stderr",
     "output_type": "stream",
     "text": [
      "100%|██████████| 545/545 [00:42<00:00, 12.80it/s]\n"
     ]
    },
    {
     "name": "stdout",
     "output_type": "stream",
     "text": [
      "========================================================\n",
      "Train loss of epoch 14:0.8042\n",
      "Train accuracy of epoch 14:0.6246444954128436\n"
     ]
    },
    {
     "name": "stderr",
     "output_type": "stream",
     "text": [
      "100%|██████████| 69/69 [00:01<00:00, 38.44it/s]\n",
      " 93%|█████████▎| 14/15 [10:31<00:44, 44.81s/it]"
     ]
    },
    {
     "name": "stdout",
     "output_type": "stream",
     "text": [
      "========================================================\n",
      "Validation loss of epoch 14:0.7785\n",
      "Validation accuracy of epoch 14:0.648835403726708\n",
      "Epoch 15:/n-----------------------------------------------------------\n"
     ]
    },
    {
     "name": "stderr",
     "output_type": "stream",
     "text": [
      "100%|██████████| 545/545 [00:42<00:00, 12.93it/s]\n"
     ]
    },
    {
     "name": "stdout",
     "output_type": "stream",
     "text": [
      "========================================================\n",
      "Train loss of epoch 15:0.8067\n",
      "Train accuracy of epoch 15:0.6246353211009169\n"
     ]
    },
    {
     "name": "stderr",
     "output_type": "stream",
     "text": [
      "100%|██████████| 69/69 [00:01<00:00, 36.83it/s]\n",
      "100%|██████████| 15/15 [11:15<00:00, 45.00s/it]"
     ]
    },
    {
     "name": "stdout",
     "output_type": "stream",
     "text": [
      "========================================================\n",
      "Validation loss of epoch 15:0.7889\n",
      "Validation accuracy of epoch 15:0.6361154244306418\n",
      "\n",
      "finished training =================================================\n"
     ]
    },
    {
     "name": "stderr",
     "output_type": "stream",
     "text": [
      "\n"
     ]
    }
   ],
   "source": [
    "import xResNet as m\n",
    "net = m.xresnet1d50_deeper().float()\n",
    "#with inception, it takes 3 minutes to finish an epoch on my lovely thingy\n",
    "net.to(device)\n",
    "#storing stuff for matplotlib\n",
    "epoch_train_loss = []\n",
    "epoch_train_acc = []\n",
    "epoch_val_loss = []\n",
    "epoch_val_acc = []\n",
    "\n",
    "for epoch in tqdm(range(num_eporch)):\n",
    "    net.train()\n",
    "    train_loss = []\n",
    "    train_acc = []\n",
    "    val_loss = []\n",
    "    val_acc = []\n",
    "    print(\"Epoch {}:/n-----------------------------------------------------------\".format(epoch +1)) \n",
    "    \n",
    "    for inputs, labels in tqdm(train_data):\n",
    "        inputs, labels = inputs.to(device),labels.to(device)\n",
    "        running_loss = 0.0\n",
    "        optimizer.zero_grad()\n",
    "        # forward + backward + optimize\n",
    "        outputs = net(inputs.float())\n",
    "        outputs.to(device)\n",
    "        loss = criterion(outputs, (labels.float()))\n",
    "        loss.backward()\n",
    "        optimizer.step()\n",
    "        \n",
    "        pred = outputs.cpu().detach().numpy() > thresh_hold\n",
    "        acc = (pred == labels.cpu().detach().numpy()).sum()/(inputs.shape[0]*5)\n",
    "        \n",
    "        running_loss += loss.item()\n",
    "        train_loss.append(loss.item())\n",
    "        train_acc.append(acc)\n",
    "        # print(\"epoch{}: loss per batch:{:.4f}\".format(epoch+1, running_loss))\n",
    "        # print(\"Accuracy of epoch{} per batch:{}\".format(epoch+1, acc*100))\n",
    "        # the above two lines are for those who want to burn your own eyes\n",
    "    print(\"========================================================\")\n",
    "    epoch_train_acc.append(sum(train_acc)/len(train_acc))\n",
    "    epoch_train_loss.append(sum(train_loss)/len(train_loss))\n",
    "    print(\"Train loss of epoch {}:{:.4f}\".format(epoch+1, epoch_train_loss[-1]))    \n",
    "    print(\"Train accuracy of epoch {}:{:}\".format(epoch+1, epoch_train_acc[-1]))\n",
    "\n",
    "    with torch.no_grad():\n",
    "        net.eval()\n",
    "        running_loss = 0.0\n",
    "        batch_val = []\n",
    "        for inputs, labels in tqdm(val_data):\n",
    "            inputs, labels = inputs.cuda(),labels.cuda()\n",
    "            # forward + backward + optimize\n",
    "            outputs = net(inputs.float())\n",
    "            loss = criterion(outputs, labels.float())\n",
    "            \n",
    "            pred = outputs.cpu().detach().numpy() > thresh_hold\n",
    "            acc = (pred == labels.cpu().detach().numpy()).sum()/(inputs.shape[0]*5)\n",
    "            batch_val.append(acc)\n",
    "            running_loss += loss.item()\n",
    "            val_loss.append(loss.item())\n",
    "            val_acc.append(acc)\n",
    "    epoch_val_loss.append(sum(val_loss)/len(val_loss))\n",
    "    epoch_val_acc.append(sum(val_acc)/len(val_acc))\n",
    "    print(\"========================================================\")\n",
    "    print(\"Validation loss of epoch {}:{:.4f}\".format(epoch+1, epoch_val_loss[-1]))    \n",
    "    print(\"Validation accuracy of epoch {}:{:}\".format(epoch+1, epoch_val_acc[-1]))\n",
    "\n",
    "print(\"\\nfinished training =================================================\")\n",
    "\n",
    "\n"
   ]
  },
  {
   "cell_type": "code",
   "execution_count": 3,
   "metadata": {},
   "outputs": [
    {
     "name": "stderr",
     "output_type": "stream",
     "text": [
      "100%|██████████| 69/69 [00:02<00:00, 28.92it/s]"
     ]
    },
    {
     "name": "stdout",
     "output_type": "stream",
     "text": [
      "========================================================\n",
      "Test loss:0.8057\n",
      "Test accuracy:0.6221920289855071\n"
     ]
    },
    {
     "name": "stderr",
     "output_type": "stream",
     "text": [
      "\n"
     ]
    }
   ],
   "source": [
    "#here should lie the testing code\n",
    "test_loss = []\n",
    "test_acc = []\n",
    "with torch.no_grad():\n",
    "    net.eval()\n",
    "    running_loss = 0.0\n",
    "    batch_test = []\n",
    "    for inputs, labels in tqdm(test_data):\n",
    "        inputs, labels = inputs.to(device),labels.to(device)\n",
    "        outputs = net(inputs.float())\n",
    "        outputs.to(device)\n",
    "        loss = criterion(outputs, labels.float())\n",
    "        pred = outputs.cpu().detach().numpy() > thresh_hold\n",
    "        acc = (pred == labels.cpu().detach().numpy()).sum()/(inputs.shape[0]*5)\n",
    "        batch_test.append(acc)\n",
    "        running_loss += loss.item()\n",
    "        test_loss.append(loss.item())\n",
    "        test_acc.append(acc)\n",
    "print(\"========================================================\")\n",
    "print(\"Test loss:{:.4f}\".format(sum(test_loss)/len(test_loss)))    \n",
    "print(\"Test accuracy:{:}\".format(sum(batch_test)/len(batch_test)))"
   ]
  },
  {
   "cell_type": "code",
   "execution_count": 9,
   "metadata": {},
   "outputs": [
    {
     "data": {
      "image/png": "[encoded data removed]",
      "text/plain": [
       "<Figure size 640x480 with 2 Axes>"
      ]
     },
     "metadata": {},
     "output_type": "display_data"
    }
   ],
   "source": [
    "import matplotlib.pyplot as plt\n",
    "#visualize\n",
    "figure, axis = plt.subplots(2)\n",
    "#accuracy plot\n",
    "axis[0].set_title('xResNet_deeper')\n",
    "axis[0].plot(epoch_train_acc,label='train_acc')\n",
    "axis[0].plot(epoch_val_acc,label='val_acc')\n",
    "axis[0].set_xlabel('epochs')\n",
    "axis[0].set_ylabel('acc')\n",
    "\n",
    "\n",
    "axis[1].plot(epoch_train_loss,label='train')\n",
    "axis[1].plot(epoch_val_loss,label='val')\n",
    "axis[1].set_xlabel('epochs')\n",
    "axis[1].set_ylabel('loss')\n",
    "\n",
    "plt.savefig(\"xResNet_deeper.jpg\")\n",
    "plt.legend()\n",
    "plt.show()"
   ]
  }
 ],
 "metadata": {
  "kernelspec": {
   "display_name": "Python 3.10.7 64-bit",
   "language": "python",
   "name": "python3"
  },
  "language_info": {
   "codemirror_mode": {
    "name": "ipython",
    "version": 3
   },
   "file_extension": ".py",
   "mimetype": "text/x-python",
   "name": "python",
   "nbconvert_exporter": "python",
   "pygments_lexer": "ipython3",
   "version": "3.10.7"
  },
  "orig_nbformat": 4,
  "vscode": {
   "interpreter": {
    "hash": "d20bcdef696afd7cf0fc88bd3be2c3aff4cadff0f93f83df0fcfe153514e79a0"
   }
  }
 },
 "nbformat": 4,
 "nbformat_minor": 2
}
